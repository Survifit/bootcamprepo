{
 "cells": [
  {
   "cell_type": "markdown",
   "metadata": {},
   "source": [
    "# Mission To Mars\n",
    "* UofMN Data Visualization and Analytics Bootcamp\n",
    "* Homework 10 / Week 12 - Web Scraping and MongoDB\n",
    "* Created by: Chris Howard\n",
    "* 05/17/2019"
   ]
  },
  {
   "cell_type": "code",
   "execution_count": 1,
   "metadata": {},
   "outputs": [],
   "source": [
    "# Dependencies\n",
    "from bs4 import BeautifulSoup\n",
    "from splinter import Browser\n",
    "import pandas as pd\n",
    "import requests\n",
    "import pymongo"
   ]
  },
  {
   "cell_type": "code",
   "execution_count": 2,
   "metadata": {},
   "outputs": [],
   "source": [
    "executable_path = {'executable_path' : 'C:\\chromedrv\\chromedriver.exe'}\n",
    "browser = Browser('chrome', **executable_path, headless=False) #Show browser here for testing, change to 'True' for app.py"
   ]
  },
  {
   "cell_type": "code",
   "execution_count": 3,
   "metadata": {},
   "outputs": [
    {
     "name": "stdout",
     "output_type": "stream",
     "text": [
      "Why This Martian Full Moon Looks Like Candy\n",
      "For the first time, NASA's Mars Odyssey orbiter has caught the Martian moon Phobos during a full moon phase. Each color in this new image represents a temperature range detected by Odyssey's infrared camera.\n"
     ]
    }
   ],
   "source": [
    "# Mars News\n",
    "news_url = 'https://mars.nasa.gov/news/'\n",
    "news_resp = requests.get(news_url)\n",
    "news_soup = BeautifulSoup(news_resp.text, 'lxml')\n",
    "headline = news_soup.find('div', class_=\"slide\")\n",
    "news_title = headline.find('div', class_=\"content_title\").text.strip('\\n')\n",
    "news_summary = headline.find('div', class_=\"rollover_description_inner\").text.strip('\\n')\n",
    "print(news_title)\n",
    "print(news_summary)"
   ]
  },
  {
   "cell_type": "code",
   "execution_count": 4,
   "metadata": {},
   "outputs": [
    {
     "name": "stdout",
     "output_type": "stream",
     "text": [
      "https://www.jpl.nasa.gov/spaceimages/images/largesize/PIA23221_hires.jpg\n"
     ]
    }
   ],
   "source": [
    "# JPL Mars Space Images - Featured\n",
    "image_url = 'https://www.jpl.nasa.gov/spaceimages/?search=&category=Mars#submit'\n",
    "image_resp = requests.get(image_url)\n",
    "image_soup = BeautifulSoup(image_resp.text, 'lxml')\n",
    "image = image_soup.find('li', class_='slide')\n",
    "featured_image_url = \"https://www.jpl.nasa.gov\" + image.a['data-fancybox-href']\n",
    "print(featured_image_url)"
   ]
  },
  {
   "cell_type": "code",
   "execution_count": 5,
   "metadata": {},
   "outputs": [
    {
     "name": "stdout",
     "output_type": "stream",
     "text": [
      "InSight sol 167 (2019-05-17) low -100.5ºC (-148.9ºF) high -20.4ºC (-4.6ºF)\n",
      "winds from the SW at 4.7 m/s (10.6 mph) gusting to 13.5 m/s (30.3 mph)\n",
      "pressure at 7.50\n"
     ]
    }
   ],
   "source": [
    "# Twitter weather report\n",
    "twitter_url = 'https://twitter.com/marswxreport?lang=en'\n",
    "twitter_resp = requests.get(twitter_url)\n",
    "twitter_soup = BeautifulSoup(twitter_resp.text, 'lxml')\n",
    "tweets = twitter_soup.find_all('div', class_='content')\n",
    "for tweet in tweets:\n",
    "    # Find first tweet that is not a re-tweet, this will be the most recent weather report\n",
    "    if tweet.a['href'] == '/MarsWxReport':\n",
    "        recent_tweet = tweet\n",
    "        break\n",
    "mars_weather = recent_tweet.p.text\n",
    "mars_weather = mars_weather.partition(' hPapic')[0] #Remove pic URL that can't be used in Flask App (404 error)\n",
    "print(mars_weather)"
   ]
  },
  {
   "cell_type": "code",
   "execution_count": 6,
   "metadata": {},
   "outputs": [],
   "source": [
    "# Mars facts table\n",
    "facts_url = 'https://space-facts.com/mars/'\n",
    "mars_table = pd.read_html(facts_url)\n",
    "mars_df = mars_table[0]\n",
    "mars_df = mars_df.rename(columns={0:'description',1:'values'})\n",
    "mars_df = mars_df.set_index('description')\n",
    "mars_df = mars_df.to_html()\n"
   ]
  },
  {
   "cell_type": "code",
   "execution_count": 7,
   "metadata": {},
   "outputs": [
    {
     "name": "stdout",
     "output_type": "stream",
     "text": [
      "[{'title': 'Cerberus Hemisphere', 'img_url': 'http://astropedia.astrogeology.usgs.gov/download/Mars/Viking/cerberus_enhanced.tif/full.jpg'}, {'title': 'Schiaparelli Hemisphere', 'img_url': 'http://astropedia.astrogeology.usgs.gov/download/Mars/Viking/schiaparelli_enhanced.tif/full.jpg'}, {'title': 'Syrtis Major Hemisphere', 'img_url': 'http://astropedia.astrogeology.usgs.gov/download/Mars/Viking/syrtis_major_enhanced.tif/full.jpg'}, {'title': 'Valles Marineris Hemisphere', 'img_url': 'http://astropedia.astrogeology.usgs.gov/download/Mars/Viking/valles_marineris_enhanced.tif/full.jpg'}]\n"
     ]
    }
   ],
   "source": [
    "# Mars Hemispheres\n",
    "hemi_url = 'https://astrogeology.usgs.gov/search/results?q=hemisphere+enhanced&k1=target&v1=Mars'\n",
    "hemi_list = ['Cerberus', 'Schiaparelli', 'Syrtis', 'Valles']\n",
    "hemisphere_image_urls = []\n",
    "browser.visit(hemi_url)\n",
    "\n",
    "for hemi in hemi_list:\n",
    "    browser.click_link_by_partial_text(hemi)\n",
    "    hemi_html = browser.html\n",
    "    hemi_soup = BeautifulSoup(hemi_html, 'html.parser')\n",
    "    url = hemi_soup.find('div', class_='downloads').ul.li.a['href']\n",
    "    name = hemi_soup.title.text.partition(' Enhanced')[0]\n",
    "    hemisphere_image_urls.append({'title':name, 'img_url':url})\n",
    "    browser.back()\n",
    "\n",
    "print(hemisphere_image_urls)\n"
   ]
  },
  {
   "cell_type": "code",
   "execution_count": 8,
   "metadata": {},
   "outputs": [],
   "source": [
    "# Create connection to MongoDB\n",
    "conn = 'mongodb://localhost:27017'\n",
    "client = pymongo.MongoClient(conn)"
   ]
  },
  {
   "cell_type": "code",
   "execution_count": 9,
   "metadata": {},
   "outputs": [
    {
     "name": "stdout",
     "output_type": "stream",
     "text": [
      "{'news': {'title': 'Why This Martian Full Moon Looks Like Candy', 'summary': \"For the first time, NASA's Mars Odyssey orbiter has caught the Martian moon Phobos during a full moon phase. Each color in this new image represents a temperature range detected by Odyssey's infrared camera.\"}, 'feat_img': 'https://www.jpl.nasa.gov/spaceimages/images/largesize/PIA23221_hires.jpg', 'weather': 'InSight sol 167 (2019-05-17) low -100.5ºC (-148.9ºF) high -20.4ºC (-4.6ºF)\\nwinds from the SW at 4.7 m/s (10.6 mph) gusting to 13.5 m/s (30.3 mph)\\npressure at 7.50', 'facts': '<table border=\"1\" class=\"dataframe\">\\n  <thead>\\n    <tr style=\"text-align: right;\">\\n      <th></th>\\n      <th>values</th>\\n    </tr>\\n    <tr>\\n      <th>description</th>\\n      <th></th>\\n    </tr>\\n  </thead>\\n  <tbody>\\n    <tr>\\n      <th>Equatorial Diameter:</th>\\n      <td>6,792 km</td>\\n    </tr>\\n    <tr>\\n      <th>Polar Diameter:</th>\\n      <td>6,752 km</td>\\n    </tr>\\n    <tr>\\n      <th>Mass:</th>\\n      <td>6.42 x 10^23 kg (10.7% Earth)</td>\\n    </tr>\\n    <tr>\\n      <th>Moons:</th>\\n      <td>2 (Phobos &amp; Deimos)</td>\\n    </tr>\\n    <tr>\\n      <th>Orbit Distance:</th>\\n      <td>227,943,824 km (1.52 AU)</td>\\n    </tr>\\n    <tr>\\n      <th>Orbit Period:</th>\\n      <td>687 days (1.9 years)</td>\\n    </tr>\\n    <tr>\\n      <th>Surface Temperature:</th>\\n      <td>-153 to 20 °C</td>\\n    </tr>\\n    <tr>\\n      <th>First Record:</th>\\n      <td>2nd millennium BC</td>\\n    </tr>\\n    <tr>\\n      <th>Recorded By:</th>\\n      <td>Egyptian astronomers</td>\\n    </tr>\\n  </tbody>\\n</table>', 'hemi_img': [{'title': 'Cerberus Hemisphere', 'img_url': 'http://astropedia.astrogeology.usgs.gov/download/Mars/Viking/cerberus_enhanced.tif/full.jpg'}, {'title': 'Schiaparelli Hemisphere', 'img_url': 'http://astropedia.astrogeology.usgs.gov/download/Mars/Viking/schiaparelli_enhanced.tif/full.jpg'}, {'title': 'Syrtis Major Hemisphere', 'img_url': 'http://astropedia.astrogeology.usgs.gov/download/Mars/Viking/syrtis_major_enhanced.tif/full.jpg'}, {'title': 'Valles Marineris Hemisphere', 'img_url': 'http://astropedia.astrogeology.usgs.gov/download/Mars/Viking/valles_marineris_enhanced.tif/full.jpg'}]}\n"
     ]
    }
   ],
   "source": [
    "# Generate dictionary to add to DB, print it out to confirm.\n",
    "post = {\n",
    "    'news': {'title':news_title, 'summary':news_summary},\n",
    "    'feat_img': featured_image_url,\n",
    "    'weather': mars_weather,\n",
    "    'facts': mars_df,\n",
    "    'hemi_img': hemisphere_image_urls\n",
    "}\n",
    "print(post)"
   ]
  },
  {
   "cell_type": "code",
   "execution_count": 10,
   "metadata": {},
   "outputs": [
    {
     "data": {
      "text/plain": [
       "<pymongo.results.UpdateResult at 0x1dfb386f3c8>"
      ]
     },
     "execution_count": 10,
     "metadata": {},
     "output_type": "execute_result"
    }
   ],
   "source": [
    "# Add/update database with 'post' data\n",
    "db = client.mars_db\n",
    "collection = db.new_info\n",
    "\n",
    "collection.replace_one({}, post, True)"
   ]
  },
  {
   "cell_type": "code",
   "execution_count": null,
   "metadata": {},
   "outputs": [],
   "source": []
  }
 ],
 "metadata": {
  "kernelspec": {
   "display_name": "Python 3",
   "language": "python",
   "name": "python3"
  },
  "language_info": {
   "codemirror_mode": {
    "name": "ipython",
    "version": 3
   },
   "file_extension": ".py",
   "mimetype": "text/x-python",
   "name": "python",
   "nbconvert_exporter": "python",
   "pygments_lexer": "ipython3",
   "version": "3.6.7"
  }
 },
 "nbformat": 4,
 "nbformat_minor": 2
}
